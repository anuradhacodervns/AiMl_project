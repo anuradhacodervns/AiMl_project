{
 "cells": [
  {
   "cell_type": "code",
   "execution_count": 1,
   "metadata": {},
   "outputs": [
    {
     "name": "stdout",
     "output_type": "stream",
     "text": [
      "hello\n"
     ]
    }
   ],
   "source": [
    "print(\"hello\")"
   ]
  },
  {
   "cell_type": "code",
   "execution_count": 2,
   "metadata": {},
   "outputs": [
    {
     "name": "stdout",
     "output_type": "stream",
     "text": [
      "Collecting opencv-python\n",
      "  Using cached opencv_python-4.8.1.78-cp37-abi3-win_amd64.whl (38.1 MB)\n",
      "Collecting numpy>=1.17.3\n",
      "  Downloading numpy-1.26.2-cp310-cp310-win_amd64.whl (15.8 MB)\n",
      "Installing collected packages: numpy, opencv-python\n",
      "Successfully installed numpy-1.26.2 opencv-python-4.8.1.78\n",
      "Note: you may need to restart the kernel to use updated packages.\n"
     ]
    },
    {
     "name": "stderr",
     "output_type": "stream",
     "text": [
      "  WARNING: The script f2py.exe is installed in 'c:\\Users\\om\\AppData\\Local\\Programs\\Python\\Python310\\Scripts' which is not on PATH.\n",
      "  Consider adding this directory to PATH or, if you prefer to suppress this warning, use --no-warn-script-location.\n",
      "WARNING: You are using pip version 21.2.3; however, version 23.3.1 is available.\n",
      "You should consider upgrading via the 'c:\\Users\\om\\AppData\\Local\\Programs\\Python\\Python310\\python.exe -m pip install --upgrade pip' command.\n"
     ]
    }
   ],
   "source": [
    "pip install opencv-python"
   ]
  },
  {
   "cell_type": "code",
   "execution_count": 3,
   "metadata": {},
   "outputs": [
    {
     "ename": "KeyboardInterrupt",
     "evalue": "",
     "output_type": "error",
     "traceback": [
      "\u001b[1;31m---------------------------------------------------------------------------\u001b[0m",
      "\u001b[1;31mKeyboardInterrupt\u001b[0m                         Traceback (most recent call last)",
      "\u001b[1;32mc:\\Users\\om\\Desktop\\Project_AIML\\smile_detect.ipynb Cell 3\u001b[0m line \u001b[0;36m2\n\u001b[0;32m     <a href='vscode-notebook-cell:/c%3A/Users/om/Desktop/Project_AIML/smile_detect.ipynb#W1sZmlsZQ%3D%3D?line=18'>19</a>\u001b[0m \u001b[39mfor\u001b[39;00m x,y,w,h \u001b[39min\u001b[39;00m faces:\n\u001b[0;32m     <a href='vscode-notebook-cell:/c%3A/Users/om/Desktop/Project_AIML/smile_detect.ipynb#W1sZmlsZQ%3D%3D?line=19'>20</a>\u001b[0m     face \u001b[39m=\u001b[39m img[y:y\u001b[39m+\u001b[39mh, x:x\u001b[39m+\u001b[39mw]\n\u001b[1;32m---> <a href='vscode-notebook-cell:/c%3A/Users/om/Desktop/Project_AIML/smile_detect.ipynb#W1sZmlsZQ%3D%3D?line=21'>22</a>\u001b[0m     smiles \u001b[39m=\u001b[39m sd\u001b[39m.\u001b[39;49mdetectMultiScale(face,\u001b[39m1.1\u001b[39;49m ,\u001b[39m200\u001b[39;49m)\n\u001b[0;32m     <a href='vscode-notebook-cell:/c%3A/Users/om/Desktop/Project_AIML/smile_detect.ipynb#W1sZmlsZQ%3D%3D?line=22'>23</a>\u001b[0m     \u001b[39mfor\u001b[39;00m xs,ys,ws,hs \u001b[39min\u001b[39;00m smiles:\n\u001b[0;32m     <a href='vscode-notebook-cell:/c%3A/Users/om/Desktop/Project_AIML/smile_detect.ipynb#W1sZmlsZQ%3D%3D?line=23'>24</a>\u001b[0m         cv2\u001b[39m.\u001b[39mrectangle(img, pt1\u001b[39m=\u001b[39m(x\u001b[39m+\u001b[39mxs, y\u001b[39m+\u001b[39mys), pt2 \u001b[39m=\u001b[39m (x\u001b[39m+\u001b[39mxs\u001b[39m+\u001b[39mws, y\u001b[39m+\u001b[39mys\u001b[39m+\u001b[39mhs), color\u001b[39m=\u001b[39m(\u001b[39m0\u001b[39m,\u001b[39m0\u001b[39m,\u001b[39m255\u001b[39m), thickness\u001b[39m=\u001b[39m \u001b[39m3\u001b[39m)\n",
      "\u001b[1;31mKeyboardInterrupt\u001b[0m: "
     ]
    }
   ],
   "source": [
    "import cv2\n",
    "fd = cv2.CascadeClassifier(cv2.data.haarcascades + \"haarcascade_frontalface_default.xml\")\n",
    "sd = cv2.CascadeClassifier(cv2.data.haarcascades + \"haarcascade_smile.xml\")\n",
    "\n",
    "# Video read using web cam\n",
    "vid = cv2.VideoCapture(0)\n",
    "counter = 0\n",
    "captured = True\n",
    "\n",
    "# mai loop to read and show image until we break the loop\n",
    "while captured :\n",
    "    flag , img = vid.read()\n",
    "    img_gray =   cv2.cvtColor(img,cv2.COLOR_BGR2GRAY)\n",
    "    # th, img = cv2.threshold(img,50, 255,cv2.THRESH_BINARY )\n",
    "    \n",
    "    # if flag is true then only show image\n",
    "    if flag:\n",
    "        faces = fd.detectMultiScale(img,1.1 ,5)\n",
    "        for x,y,w,h in faces:\n",
    "            face = img[y:y+h, x:x+w]\n",
    "            \n",
    "            smiles = sd.detectMultiScale(face,1.1 ,200)\n",
    "            for xs,ys,ws,hs in smiles:\n",
    "                cv2.rectangle(img, pt1=(x+xs, y+ys), pt2 = (x+xs+ws, y+ys+hs), color=(0,0,255), thickness= 3)\n",
    "            \n",
    "            # Draw a rectange on img   \n",
    "            cv2.rectangle(img, pt1=(x,y), pt2 = (x+w,y+h), color=(255,0,0), thickness= 3)\n",
    "            \n",
    "            # It will check if face is present in front of cam for 20 frames\n",
    "            # if len(faces) == 1:\n",
    "             #     counter += 1\n",
    "            #     print(counter)\n",
    "            #     if counter == 100 :\n",
    "            #         captured = False\n",
    "            # else:\n",
    "            #     counter = 0\n",
    "            \n",
    "        cv2.imshow(\"webcam_image\",img)    \n",
    "        # cv2.imshow(\"webcam_image\",img)\n",
    "        key = cv2.waitKey(1)\n",
    "        if key == ord(\"q\"):\n",
    "            break\n",
    "    else:\n",
    "        break\n",
    "cv2.destroyAllWindows()\n",
    "vid.release()"
   ]
  },
  {
   "cell_type": "code",
   "execution_count": null,
   "metadata": {},
   "outputs": [],
   "source": []
  }
 ],
 "metadata": {
  "kernelspec": {
   "display_name": "Python 3",
   "language": "python",
   "name": "python3"
  },
  "language_info": {
   "codemirror_mode": {
    "name": "ipython",
    "version": 3
   },
   "file_extension": ".py",
   "mimetype": "text/x-python",
   "name": "python",
   "nbconvert_exporter": "python",
   "pygments_lexer": "ipython3",
   "version": "3.10.0"
  },
  "orig_nbformat": 4
 },
 "nbformat": 4,
 "nbformat_minor": 2
}
